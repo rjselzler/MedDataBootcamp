{
 "cells": [
  {
   "cell_type": "code",
   "execution_count": 33,
   "id": "27d0edfc",
   "metadata": {},
   "outputs": [],
   "source": [
    "import csv"
   ]
  },
  {
   "cell_type": "code",
   "execution_count": 65,
   "id": "111f9853",
   "metadata": {},
   "outputs": [],
   "source": [
    "with open(\"insurance.csv\") as insurance_data:\n",
    "    ages = []\n",
    "    temp_data = csv.DictReader(insurance_data)\n",
    "    for row in temp_data:\n",
    "        ages.append(int(row['age']))"
   ]
  },
  {
   "cell_type": "code",
   "execution_count": 68,
   "id": "1ee48f8a",
   "metadata": {},
   "outputs": [
    {
     "name": "stdout",
     "output_type": "stream",
     "text": [
      "39.20702541106129\n"
     ]
    }
   ],
   "source": [
    "    Sum = sum(ages)\n",
    "    AVG = Sum/len(ages)\n",
    "    print(AVG)        "
   ]
  },
  {
   "cell_type": "code",
   "execution_count": null,
   "id": "c33b66c0",
   "metadata": {},
   "outputs": [],
   "source": []
  }
 ],
 "metadata": {
  "kernelspec": {
   "display_name": "Python 3 (ipykernel)",
   "language": "python",
   "name": "python3"
  },
  "language_info": {
   "codemirror_mode": {
    "name": "ipython",
    "version": 3
   },
   "file_extension": ".py",
   "mimetype": "text/x-python",
   "name": "python",
   "nbconvert_exporter": "python",
   "pygments_lexer": "ipython3",
   "version": "3.9.7"
  }
 },
 "nbformat": 4,
 "nbformat_minor": 5
}
